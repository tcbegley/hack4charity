{
 "cells": [
  {
   "cell_type": "markdown",
   "metadata": {},
   "source": [
    "# Acquire data"
   ]
  },
  {
   "cell_type": "markdown",
   "metadata": {},
   "source": [
    "This notebook loads all of the csv files and saves them to a single pandas dataframe"
   ]
  },
  {
   "cell_type": "code",
   "execution_count": 1,
   "metadata": {
    "collapsed": false
   },
   "outputs": [],
   "source": [
    "import pandas as pd\n",
    "import os\n",
    "from datetime import datetime as dt\n",
    "import re\n",
    "from functools import reduce"
   ]
  },
  {
   "cell_type": "markdown",
   "metadata": {},
   "source": [
    "## Load tweets at female MPs"
   ]
  },
  {
   "cell_type": "code",
   "execution_count": 2,
   "metadata": {
    "collapsed": false,
    "scrolled": true
   },
   "outputs": [],
   "source": [
    "df_tweets = pd.DataFrame()\n",
    "\n",
    "path = '../data/raw/'\n",
    "\n",
    "for filename in os.listdir('../data/raw'):\n",
    "    if filename[-4:] == '.csv':\n",
    "        df_tweets = df_tweets.append(pd.read_csv(path + filename, encoding='latin1'))"
   ]
  },
  {
   "cell_type": "code",
   "execution_count": 3,
   "metadata": {
    "collapsed": false
   },
   "outputs": [],
   "source": [
    "df_tweets.dropna(subset=['Date (GMT)'], inplace=True)\n",
    "\n",
    "df_tweets['Date (GMT)'] = df_tweets['Date (GMT)'].map(lambda x : dt.strptime(x, '%d/%m/%Y %H:%M'))\n",
    "df_tweets = (df_tweets.sort_values('Date (GMT)', ascending=False)\n",
    "                      .drop_duplicates(['GUID', 'URL'])\n",
    "                      .reset_index(drop=True))\n",
    "\n",
    "names = {'GUID': 'guid', 'Date (GMT)': 'date', 'URL': 'url', 'Contents': 'tweet', 'Author': 'author', \n",
    "         'Name': 'name', 'County': 'country', 'State/Region': 'region', 'City/Urban Area': 'city', \n",
    "         'Category': 'category', 'Emotion': 'emotion', 'Source': 'source', 'Klout Score': 'klout', \n",
    "         'Gender': 'gender', 'Posts': 'posts', 'Followers': 'followers', 'Following': 'following'}\n",
    "df_tweets.rename(columns=names, inplace=True)"
   ]
  },
  {
   "cell_type": "markdown",
   "metadata": {},
   "source": [
    "### Extract handles and hashtags for quick searching"
   ]
  },
  {
   "cell_type": "code",
   "execution_count": 4,
   "metadata": {
    "collapsed": true
   },
   "outputs": [],
   "source": [
    "def find_handles(text):\n",
    "    r = re.compile('@[^\\s]+')\n",
    "    return re.findall(r, text)\n",
    "\n",
    "def find_hashtags(text):\n",
    "    r = re.compile('#[^\\s]+')\n",
    "    return re.findall(r, text)"
   ]
  },
  {
   "cell_type": "code",
   "execution_count": 5,
   "metadata": {
    "collapsed": true
   },
   "outputs": [],
   "source": [
    "df_tweets['handles'] = df_tweets['tweet'].map(find_handles)\n",
    "df_tweets['hashtags'] = df_tweets['tweet'].map(find_hashtags)\n",
    "\n",
    "df_tweets.to_pickle('../data/interim/tweets.pkl')"
   ]
  },
  {
   "cell_type": "markdown",
   "metadata": {},
   "source": [
    "## Load female MPs"
   ]
  },
  {
   "cell_type": "code",
   "execution_count": 6,
   "metadata": {
    "collapsed": true
   },
   "outputs": [],
   "source": [
    "# helper function for quickly matching MPs to mentions\n",
    "def make_gen(key, series):\n",
    "    for i, keys in series.iteritems():\n",
    "        if key in keys:\n",
    "            yield i"
   ]
  },
  {
   "cell_type": "code",
   "execution_count": 7,
   "metadata": {
    "collapsed": true
   },
   "outputs": [],
   "source": [
    "df_mps = pd.read_excel('../data/raw/Hackathon_WomenMP.xlsx')\n",
    "df_mps.dropna(subset=['twitter_username'], inplace=True)\n",
    "\n",
    "df_mps['twitter_username'] = df_mps['twitter_username'].map(lambda x: '@' + x, na_action='ignore')\n",
    "df_mps['mentions'] = df_mps['twitter_username'].map(lambda x: [i for i in make_gen(x, df_tweets['handles'])])\n",
    "\n",
    "names = {'Ethnic minority':'ethnicity', 'Religion minority': 'religion',\n",
    "         'Age/ DOB':'dob'}\n",
    "df_mps.rename(columns=names, inplace=True)\n",
    "df_mps['no_tweets'] = df_mps['mentions'].map(lambda x: len(x))\n",
    "\n",
    "df_mps.to_pickle('../data/interim/mps.pkl')"
   ]
  },
  {
   "cell_type": "markdown",
   "metadata": {},
   "source": [
    "## Extract hashtags"
   ]
  },
  {
   "cell_type": "code",
   "execution_count": 8,
   "metadata": {
    "collapsed": true
   },
   "outputs": [],
   "source": [
    "hashtags = {}\n",
    "\n",
    "for i, tags in df_tweets['hashtags'].iteritems():\n",
    "    for tag in tags:\n",
    "        hashtags[tag] = hashtags.setdefault(tag, []) + [i]\n",
    "\n",
    "d = {'hashtag': [k for k in hashtags.keys()], 'mentions': [v for v in hashtags.values()]}\n",
    "df_hashtags = pd.DataFrame(d)\n",
    "\n",
    "df_hashtags.to_pickle('../data/interim/hashtags.pkl')"
   ]
  },
  {
   "cell_type": "markdown",
   "metadata": {},
   "source": [
    "## Load MP tweets"
   ]
  },
  {
   "cell_type": "code",
   "execution_count": 28,
   "metadata": {
    "collapsed": false
   },
   "outputs": [],
   "source": [
    "df_mptweets = pd.read_pickle('../data/raw/FemaleMPTweets.pkl')\n",
    "names = {'politician_name': 'name', 'politician_username': 'handle'}\n",
    "df_mptweets.rename(columns=names, inplace=True)\n",
    "df_mptweets['date'] = (df_mptweets[['tweet_year', 'tweet_month', 'tweet_day', 'tweet_hour']]\n",
    "                       .apply(lambda x: dt(x.tweet_year, x.tweet_month, x.tweet_day, x.tweet_hour), axis=1))\n",
    "df_mptweets.drop(['tweet_year', 'tweet_month', 'tweet_day', 'tweet_hour'], axis=1, inplace=True)\n",
    "\n",
    "df_mptweets.to_pickle('../data/interim/mptweets.pkl')"
   ]
  },
  {
   "cell_type": "markdown",
   "metadata": {},
   "source": [
    "## Extract tweeters?"
   ]
  },
  {
   "cell_type": "markdown",
   "metadata": {},
   "source": [
    "It might be useful to create a list of twitter users that have tweeted MPs a lot, but I won't implement this for now."
   ]
  }
 ],
 "metadata": {
  "kernelspec": {
   "display_name": "Python 3",
   "language": "python",
   "name": "python3"
  },
  "language_info": {
   "codemirror_mode": {
    "name": "ipython",
    "version": 3
   },
   "file_extension": ".py",
   "mimetype": "text/x-python",
   "name": "python",
   "nbconvert_exporter": "python",
   "pygments_lexer": "ipython3",
   "version": "3.6.0"
  }
 },
 "nbformat": 4,
 "nbformat_minor": 2
}
